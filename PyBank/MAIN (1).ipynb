{
 "cells": [
  {
   "cell_type": "code",
   "execution_count": 1,
   "id": "f75c780d-0c81-465d-91cd-ba23cfb811e3",
   "metadata": {},
   "outputs": [],
   "source": [
    "import csv"
   ]
  },
  {
   "cell_type": "code",
   "execution_count": 25,
   "id": "137789bf-cabb-480a-841d-c4c3b29acc0b",
   "metadata": {},
   "outputs": [
    {
     "name": "stdout",
     "output_type": "stream",
     "text": [
      "The total number of months included in the dataset 86\n",
      "The net total amount of Profit/Losses over the entire period 38382578\n",
      "The average of the changes in Profit/Losses over the entire period 446309.0465116279\n",
      "The greatest increase in profits (date and amount) over the entire period 1170593\n",
      "The greatest decrease in losses (date and amount) over the entire period -1196225\n"
     ]
    }
   ],
   "source": [
    "with open('budget_data (1).csv',newline='') as csvfile:\n",
    "          reader=csv.DictReader(csvfile)\n",
    "          count=0\n",
    "          Netprofitloss=0\n",
    "          highestprofits=0\n",
    "          lowestlost=0 \n",
    "          datehighest=''\n",
    "          datelowest=''\n",
    "          for row in reader:\n",
    "              if int(row['Profit/Losses']) > highestprofits:\n",
    "                  highestprofits=int(row['Profit/Losses'])\n",
    "              if int(row['Profit/Losses']) < lowestlost:\n",
    "                 lowestlost=int(row['Profit/Losses'])\n",
    "              count=count+1\n",
    "              Netprofitloss=Netprofitloss+int(row['Profit/Losses'])\n",
    "          print('The total number of months included in the dataset',count)\n",
    "          print('The net total amount of Profit/Losses over the entire period',Netprofitloss)\n",
    "          print('The average of the changes in Profit/Losses over the entire period',Netprofitloss/count)\n",
    "          print('The greatest increase in profits (date and amount) over the entire period',highestprofits)\n",
    "          print('The greatest decrease in losses (date and amount) over the entire period',lowestlost)"
   ]
  },
  {
   "cell_type": "code",
   "execution_count": null,
   "id": "18de70eb-f164-4fdb-ab1a-116132ae3adf",
   "metadata": {},
   "outputs": [],
   "source": []
  }
 ],
 "metadata": {
  "kernelspec": {
   "display_name": "Python 3 (ipykernel)",
   "language": "python",
   "name": "python3"
  },
  "language_info": {
   "codemirror_mode": {
    "name": "ipython",
    "version": 3
   },
   "file_extension": ".py",
   "mimetype": "text/x-python",
   "name": "python",
   "nbconvert_exporter": "python",
   "pygments_lexer": "ipython3",
   "version": "3.9.7"
  }
 },
 "nbformat": 4,
 "nbformat_minor": 5
}
